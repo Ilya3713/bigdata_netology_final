{
 "cells": [
  {
   "cell_type": "code",
   "execution_count": 69,
   "metadata": {},
   "outputs": [],
   "source": [
    "import os\n",
    "os.environ[\"SPARK_HOME\"] = \"C:\\ProgramData\\Anaconda3\\opt\\spark\"\n",
    "import findspark\n",
    "findspark.init()\n",
    "\n",
    "from pyspark.sql import SparkSession\n",
    "\n",
    "spark = SparkSession.builder.master(\"local[*]\").getOrCreate()"
   ]
  },
  {
   "cell_type": "code",
   "execution_count": 70,
   "metadata": {},
   "outputs": [],
   "source": [
    "#---------------------------------------------------------------------------------------------------------------------\n",
    "#7)Загрузить данные в spark\n",
    "df_data = spark.read.csv('u.data', sep='\\t', inferSchema=True, header=False)\n",
    "df_genre = spark.read.csv('u.genre', sep='|', inferSchema=True, header=False)\n",
    "df_info = spark.read.csv('u.info', sep=' ', inferSchema=True, header=False)\n",
    "df_item = spark.read.csv('u.item', sep='|', inferSchema=True, header=False)\n",
    "df_occup = spark.read.csv('u.occupation', inferSchema=True, header=False)"
   ]
  },
  {
   "cell_type": "code",
   "execution_count": 71,
   "metadata": {},
   "outputs": [
    {
     "name": "stdout",
     "output_type": "stream",
     "text": [
      "+-------+------------------+\n",
      "|item id|       avg(rating)|\n",
      "+-------+------------------+\n",
      "|    496| 4.121212121212121|\n",
      "|    471|3.6108597285067874|\n",
      "|    463| 3.859154929577465|\n",
      "|    148|          3.203125|\n",
      "|   1342|               2.5|\n",
      "|    833| 3.204081632653061|\n",
      "|   1088| 2.230769230769231|\n",
      "|   1591|3.1666666666666665|\n",
      "|   1238|             3.125|\n",
      "|   1580|               1.0|\n",
      "|   1645|               4.0|\n",
      "|    392|3.5441176470588234|\n",
      "|    623| 2.923076923076923|\n",
      "|    540| 2.511627906976744|\n",
      "|    858|               1.0|\n",
      "|    737| 2.983050847457627|\n",
      "|    243|2.4393939393939394|\n",
      "|   1025|2.9318181818181817|\n",
      "|   1084| 3.857142857142857|\n",
      "|   1127| 2.909090909090909|\n",
      "+-------+------------------+\n",
      "only showing top 20 rows\n",
      "\n"
     ]
    }
   ],
   "source": [
    "#-------------------------------------------------------------------------------------------------------------------------\n",
    "#8)Средствами спарка вывести среднюю оценку для каждого фильма\n",
    "df_data.columns\n",
    "df_data = df_data.withColumnRenamed('_c0','user id')\\\n",
    "    .withColumnRenamed('_c1','item id')\\\n",
    "    .withColumnRenamed('_c2','rating')\\\n",
    "    .withColumnRenamed('_c3','timestamp')\n",
    "df_data_grp = df_data.groupby('item id')\n",
    "df_data_grp_mean = df_data_grp.mean('rating')\n",
    "df_data_grp_mean.show()"
   ]
  },
  {
   "cell_type": "code",
   "execution_count": 72,
   "metadata": {},
   "outputs": [
    {
     "name": "stdout",
     "output_type": "stream",
     "text": [
      "+-------+-----+--------------------+\n",
      "|item id|count|         movie title|\n",
      "+-------+-----+--------------------+\n",
      "|     50|  583|    Star Wars (1977)|\n",
      "|    258|  509|      Contact (1997)|\n",
      "|    100|  508|        Fargo (1996)|\n",
      "|    181|  507|Return of the Jed...|\n",
      "|    294|  485|    Liar Liar (1997)|\n",
      "+-------+-----+--------------------+\n",
      "\n",
      "+-------+-----+--------------------+\n",
      "|item id|count|         movie title|\n",
      "+-------+-----+--------------------+\n",
      "|   1650|    1|Butcher Boy, The ...|\n",
      "|   1618|    1|King of New York ...|\n",
      "|   1580|    1|     Liebelei (1933)|\n",
      "|   1645|    1|Butcher Boy, The ...|\n",
      "|   1352|    1|Shadow of Angels ...|\n",
      "+-------+-----+--------------------+\n",
      "\n"
     ]
    }
   ],
   "source": [
    "#-----------------------------------------------------------------------------------------------------------------\n",
    "#9)В спарке получить 2 датафрейма с 5-ю самыми популярными и самыми непопулярными фильмами (по количеству оценок, либо по самой оценке - на Ваш выбор)\n",
    "df_items = df_item['_c0', '_c1']\n",
    "\n",
    "df_items = df_items.withColumnRenamed('_c0','item id')\\\n",
    "    .withColumnRenamed('_c1','movie title')\n",
    "\n",
    "df_data_grp_mp = spark.createDataFrame(df_data_grp.count().orderBy('count', ascending=False).take(5)) \n",
    "df_data_grp_lp = spark.createDataFrame(df_data_grp.count().orderBy('count', ascending=True).take(5)) \n",
    "\n",
    "df_data_grp_mp.join(df_items, 'item id', how='inner').show()\n",
    "df_data_grp_lp.join(df_items, 'item id', how='inner').show()"
   ]
  },
  {
   "cell_type": "code",
   "execution_count": 73,
   "metadata": {},
   "outputs": [],
   "source": [
    "#------------------------------------------------------------------------------------------------------------------------\n",
    "#10)Средствами спарка соедините информацию по фильмам и жанрам\n",
    "df_item = df_item.withColumnRenamed('_c0','item id')\\\n",
    "            .withColumnRenamed('_c1','movie title')\\\n",
    "             .withColumnRenamed('_c5','unknown')\\\n",
    "        .withColumnRenamed('_c6','Action')\\\n",
    "        .withColumnRenamed('_c7','Adventure')\\\n",
    "        .withColumnRenamed('_c8','Animation')\\\n",
    "        .withColumnRenamed('_c9','Children\\'s')\\\n",
    "        .withColumnRenamed('_c10','Comedy')\\\n",
    "        .withColumnRenamed('_c11','Crime')\\\n",
    "        .withColumnRenamed('_c12','Documentary')\\\n",
    "        .withColumnRenamed('_c13','Drama')\\\n",
    "        .withColumnRenamed('_c14','Fantasy')\\\n",
    "        .withColumnRenamed('_c15','Film-Noir')\\\n",
    "        .withColumnRenamed('_c16','Horror')\\\n",
    "        .withColumnRenamed('_c17','Musical')\\\n",
    "        .withColumnRenamed('_c18','Mystery')\\\n",
    "        .withColumnRenamed('_c19','Romance')\\\n",
    "        .withColumnRenamed('_c20','Sci-Fi')\\\n",
    "        .withColumnRenamed('_c21','Thriller')\\\n",
    "        .withColumnRenamed('_c22','War')\\\n",
    "        .withColumnRenamed('_c23','Western')\\\n",
    "    \n",
    "df_item = df_item['item id', 'unknown', 'Action', 'Adventure', 'Animation',\n",
    "              'Children\\'s', 'Comedy', 'Crime', 'Documentary', 'Drama', 'Fantasy',\n",
    "              'Film-Noir', 'Horror', 'Musical','Mystery','Romance', 'Sci-Fi',\n",
    "              'Thriller', 'War','Western']"
   ]
  },
  {
   "cell_type": "code",
   "execution_count": 74,
   "metadata": {},
   "outputs": [
    {
     "name": "stdout",
     "output_type": "stream",
     "text": [
      "+-------+--------------------+----------+------------------+\n",
      "|item id|         movie title|     genre|       avg(rating)|\n",
      "+-------+--------------------+----------+------------------+\n",
      "|      1|    Toy Story (1995)| Animation|3.8783185840707963|\n",
      "|      1|    Toy Story (1995)|Children's|3.8783185840707963|\n",
      "|      1|    Toy Story (1995)|    Comedy|3.8783185840707963|\n",
      "|      2|    GoldenEye (1995)|    Action|3.2061068702290076|\n",
      "|      2|    GoldenEye (1995)| Adventure|3.2061068702290076|\n",
      "|      2|    GoldenEye (1995)|  Thriller|3.2061068702290076|\n",
      "|      3|   Four Rooms (1995)|  Thriller| 3.033333333333333|\n",
      "|      4|   Get Shorty (1995)|    Action| 3.550239234449761|\n",
      "|      4|   Get Shorty (1995)|    Comedy| 3.550239234449761|\n",
      "|      4|   Get Shorty (1995)|     Drama| 3.550239234449761|\n",
      "|      5|      Copycat (1995)|     Crime| 3.302325581395349|\n",
      "|      5|      Copycat (1995)|     Drama| 3.302325581395349|\n",
      "|      5|      Copycat (1995)|  Thriller| 3.302325581395349|\n",
      "|      6|Shanghai Triad (Y...|     Drama| 3.576923076923077|\n",
      "|      7|Twelve Monkeys (1...|     Drama| 3.798469387755102|\n",
      "|      7|Twelve Monkeys (1...|    Sci-Fi| 3.798469387755102|\n",
      "|      8|         Babe (1995)|Children's|3.9954337899543377|\n",
      "|      8|         Babe (1995)|    Comedy|3.9954337899543377|\n",
      "|      8|         Babe (1995)|     Drama|3.9954337899543377|\n",
      "|      9|Dead Man Walking ...|     Drama|3.8963210702341136|\n",
      "+-------+--------------------+----------+------------------+\n",
      "only showing top 20 rows\n",
      "\n"
     ]
    }
   ],
   "source": [
    "from pyspark.sql.functions import array, col, explode, struct, lit\n",
    "\n",
    "def to_long(df, by):\n",
    "\n",
    "    cols, dtypes = zip(*((c, t) for (c, t) in df.dtypes if c not in by))\n",
    "    kvs = explode(array([\n",
    "      struct(lit(c).alias(\"key\"), col(c).alias(\"val\")) for c in cols\n",
    "    ])).alias(\"kvs\")\n",
    "\n",
    "    return df.select(by + [kvs]).select(by + [\"kvs.key\", \"kvs.val\"])\n",
    "\n",
    "df_g_trans = to_long(df_item, [\"item id\"])\n",
    "df_g_trans = df_g_trans.where(df_g_trans['val'] > 0)\n",
    "\n",
    "df_res = df_g_trans.join(df_items, 'item id', how='inner')['item id', 'movie title', 'key']\\\n",
    "    .withColumnRenamed('key','genre')\n",
    "df_res = df_res.join(df_data_grp_mean, 'item id', how='inner') \n",
    "df_res.show()"
   ]
  },
  {
   "cell_type": "code",
   "execution_count": 75,
   "metadata": {},
   "outputs": [
    {
     "name": "stdout",
     "output_type": "stream",
     "text": [
      "+-----------+------------------+\n",
      "|      genre|  avg(avg(rating))|\n",
      "+-----------+------------------+\n",
      "|      Crime|3.2110147495997547|\n",
      "|    Romance|3.2440490301647995|\n",
      "|   Thriller| 3.136692475563836|\n",
      "|  Adventure|3.1439673136976105|\n",
      "|    unknown|2.2222222222222223|\n",
      "| Children's| 2.916884891868897|\n",
      "|      Drama|3.1873534142973314|\n",
      "|        War| 3.489185428943569|\n",
      "|Documentary| 3.229273094093941|\n",
      "|    Fantasy| 2.849830297920943|\n",
      "|    Mystery| 3.336813932383023|\n",
      "|    Musical| 3.376423123539873|\n",
      "|  Animation|3.2988130803823776|\n",
      "|  Film-Noir|3.5483508757184237|\n",
      "|     Horror| 2.730157352996138|\n",
      "|    Western| 3.185617473056144|\n",
      "|     Comedy|3.0005649618406727|\n",
      "|     Action| 2.966332403758986|\n",
      "|     Sci-Fi|3.1654460532512894|\n",
      "+-----------+------------------+\n",
      "\n"
     ]
    }
   ],
   "source": [
    "#-------------------------------------------------------------------------------------------------------------------\n",
    "#11)Посчитайте средствами спарка среднюю оценку для каждого жанра\n",
    "df_data_grp_g = df_res.groupby('genre')\n",
    "df_data_grp_mean_g = df_data_grp_g.mean('avg(rating)')\n",
    "df_data_grp_mean_g.show()"
   ]
  },
  {
   "cell_type": "code",
   "execution_count": null,
   "metadata": {},
   "outputs": [],
   "source": []
  }
 ],
 "metadata": {
  "kernelspec": {
   "display_name": "Python 3",
   "language": "python",
   "name": "python3"
  },
  "language_info": {
   "codemirror_mode": {
    "name": "ipython",
    "version": 3
   },
   "file_extension": ".py",
   "mimetype": "text/x-python",
   "name": "python",
   "nbconvert_exporter": "python",
   "pygments_lexer": "ipython3",
   "version": "3.6.4"
  }
 },
 "nbformat": 4,
 "nbformat_minor": 2
}
